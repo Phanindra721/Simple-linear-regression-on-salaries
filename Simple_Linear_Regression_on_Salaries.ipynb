{
  "nbformat": 4,
  "nbformat_minor": 0,
  "metadata": {
    "colab": {
      "provenance": []
    },
    "kernelspec": {
      "name": "python3",
      "display_name": "Python 3"
    },
    "language_info": {
      "name": "python"
    }
  },
  "cells": [
    {
      "cell_type": "code",
      "source": [
        "import pandas as pd\n",
        "\n"
      ],
      "metadata": {
        "id": "7h7Y4PnVvNR7"
      },
      "execution_count": 57,
      "outputs": []
    },
    {
      "cell_type": "code",
      "source": [
        "matplotlib inline"
      ],
      "metadata": {
        "id": "_2wm_sURk8dg"
      },
      "execution_count": 58,
      "outputs": []
    },
    {
      "cell_type": "code",
      "source": [
        "df=pd.read_csv('/content/Salary_dataset.csv')"
      ],
      "metadata": {
        "id": "_-bpuBRvlF9o"
      },
      "execution_count": 60,
      "outputs": []
    },
    {
      "cell_type": "code",
      "source": [
        "print(df.head())"
      ],
      "metadata": {
        "colab": {
          "base_uri": "https://localhost:8080/"
        },
        "id": "-TwF6nTQlSj4",
        "outputId": "b1a9a4a8-516b-44e8-e859-02010d197a75"
      },
      "execution_count": 80,
      "outputs": [
        {
          "output_type": "stream",
          "name": "stdout",
          "text": [
            "   serial number  YearsExperience   Salary\n",
            "0              0              1.2  39344.0\n",
            "1              1              1.4  46206.0\n",
            "2              2              1.6  37732.0\n",
            "3              3              2.1  43526.0\n",
            "4              4              2.3  39892.0\n"
          ]
        }
      ]
    },
    {
      "cell_type": "code",
      "source": [
        "df.rename(columns={'Unnamed: 0': 'serial number'}, inplace=True)"
      ],
      "metadata": {
        "id": "08b5bqbMlpdu"
      },
      "execution_count": 77,
      "outputs": []
    },
    {
      "cell_type": "code",
      "source": [
        "print(df.info())"
      ],
      "metadata": {
        "colab": {
          "base_uri": "https://localhost:8080/"
        },
        "id": "Alx47-oDmbI9",
        "outputId": "9b4c5965-a279-4e22-a0cd-ed5aec6a02af"
      },
      "execution_count": 79,
      "outputs": [
        {
          "output_type": "stream",
          "name": "stdout",
          "text": [
            "<class 'pandas.core.frame.DataFrame'>\n",
            "RangeIndex: 30 entries, 0 to 29\n",
            "Data columns (total 3 columns):\n",
            " #   Column           Non-Null Count  Dtype  \n",
            "---  ------           --------------  -----  \n",
            " 0   serial number    30 non-null     int64  \n",
            " 1   YearsExperience  30 non-null     float64\n",
            " 2   Salary           30 non-null     float64\n",
            "dtypes: float64(2), int64(1)\n",
            "memory usage: 852.0 bytes\n",
            "None\n"
          ]
        }
      ]
    },
    {
      "cell_type": "code",
      "source": [
        "print(df.describe())"
      ],
      "metadata": {
        "colab": {
          "base_uri": "https://localhost:8080/"
        },
        "id": "Ua7sY8O1mrGT",
        "outputId": "b28b4c03-c1f6-4382-b7bf-dffa294a428c"
      },
      "execution_count": 78,
      "outputs": [
        {
          "output_type": "stream",
          "name": "stdout",
          "text": [
            "       serial number  YearsExperience         Salary\n",
            "count      30.000000        30.000000      30.000000\n",
            "mean       14.500000         5.413333   76004.000000\n",
            "std         8.803408         2.837888   27414.429785\n",
            "min         0.000000         1.200000   37732.000000\n",
            "25%         7.250000         3.300000   56721.750000\n",
            "50%        14.500000         4.800000   65238.000000\n",
            "75%        21.750000         7.800000  100545.750000\n",
            "max        29.000000        10.600000  122392.000000\n"
          ]
        }
      ]
    },
    {
      "cell_type": "code",
      "source": [
        "x= df['YearsExperience'].values\n",
        "y= df['Salary'].values"
      ],
      "metadata": {
        "id": "3Tj5jukIoOAl"
      },
      "execution_count": 82,
      "outputs": []
    },
    {
      "cell_type": "code",
      "source": [
        "plt.scatter(x,y, color= 'red', label='Scatter Plot')\n",
        "plt.title('Relationship between YearsExperience and Salary')\n",
        "plt.xlabel('YearsExperience')\n",
        "plt.ylabel('Salary')\n",
        "plt.legend(loc=4)\n",
        "plt.show()"
      ],
      "metadata": {
        "colab": {
          "base_uri": "https://localhost:8080/",
          "height": 472
        },
        "id": "rpmYCDVhpRFa",
        "outputId": "c1260ba6-1cff-4920-be58-a62481f6772a"
      },
      "execution_count": 90,
      "outputs": [
        {
          "output_type": "display_data",
          "data": {
            "text/plain": [
              "<Figure size 640x480 with 1 Axes>"
            ],
            "image/png": "[encoded data removed]"
          },
          "metadata": {}
        }
      ]
    },
    {
      "cell_type": "code",
      "source": [
        "print(x.shape)\n",
        "print(y.shape)"
      ],
      "metadata": {
        "colab": {
          "base_uri": "https://localhost:8080/"
        },
        "id": "10zPSnxjqmJ3",
        "outputId": "cc3de5b2-2fe6-4e7e-e03f-704837810802"
      },
      "execution_count": 91,
      "outputs": [
        {
          "output_type": "stream",
          "name": "stdout",
          "text": [
            "(30,)\n",
            "(30,)\n"
          ]
        }
      ]
    },
    {
      "cell_type": "code",
      "source": [
        "x= x.reshape(-1,1)\n",
        "y= y.reshape(-1,1)"
      ],
      "metadata": {
        "id": "4rv6M69yr1DH"
      },
      "execution_count": 92,
      "outputs": []
    },
    {
      "cell_type": "code",
      "source": [
        "print(x.shape)\n",
        "print(y.shape)"
      ],
      "metadata": {
        "colab": {
          "base_uri": "https://localhost:8080/"
        },
        "id": "NzWWSNI5sAUP",
        "outputId": "1e306bc2-50d3-47aa-e652-582863460c44"
      },
      "execution_count": 93,
      "outputs": [
        {
          "output_type": "stream",
          "name": "stdout",
          "text": [
            "(30, 1)\n",
            "(30, 1)\n"
          ]
        }
      ]
    },
    {
      "cell_type": "code",
      "source": [
        "from sklearn.model_selection import train_test_split\n",
        "x_train,x_test,y_train,y_test = train_test_split(x,y, test_size= 0.33, random_state = 42)"
      ],
      "metadata": {
        "id": "dNL4w39fwrQd"
      },
      "execution_count": 94,
      "outputs": []
    },
    {
      "cell_type": "code",
      "source": [
        "print(x_train.shape)\n",
        "print(y_train.shape)\n",
        "print(x_test.shape)\n",
        "print(y_test.shape)"
      ],
      "metadata": {
        "colab": {
          "base_uri": "https://localhost:8080/"
        },
        "id": "ukaTFGJWxgxp",
        "outputId": "28aad1ef-219b-4487-e6a5-ab23abf5d8b1"
      },
      "execution_count": 95,
      "outputs": [
        {
          "output_type": "stream",
          "name": "stdout",
          "text": [
            "(20, 1)\n",
            "(20, 1)\n",
            "(10, 1)\n",
            "(10, 1)\n"
          ]
        }
      ]
    },
    {
      "cell_type": "code",
      "source": [
        "from sklearn.linear_model import LinearRegression\n",
        "lm= LinearRegression()\n",
        "\n",
        "lm.fit(x_train,y_train)\n",
        "y_pred=lm.predict(x_test)"
      ],
      "metadata": {
        "id": "-40n0jaQyhDg"
      },
      "execution_count": 96,
      "outputs": []
    },
    {
      "cell_type": "code",
      "source": [
        "a = lm.coef_\n",
        "b = lm.intercept_,\n",
        "print(\"Estimated model slope, a:\", a)\n",
        "print(\"Estimated model intercept, b:\", b)"
      ],
      "metadata": {
        "colab": {
          "base_uri": "https://localhost:8080/"
        },
        "id": "voK24Ehp0AqW",
        "outputId": "598cafdb-dfdd-4ce1-e468-8176dee73be3"
      },
      "execution_count": 101,
      "outputs": [
        {
          "output_type": "stream",
          "name": "stdout",
          "text": [
            "Estimated model slope, a: [[9426.03876907]]\n",
            "Estimated model intercept, b: (array([24382.73150234]),)\n"
          ]
        }
      ]
    },
    {
      "cell_type": "code",
      "source": [
        "lm.predict(x)[0:5]"
      ],
      "metadata": {
        "colab": {
          "base_uri": "https://localhost:8080/"
        },
        "id": "b7StCBvg08De",
        "outputId": "a60d7f28-1825-4341-9860-ad04bae98f70"
      },
      "execution_count": 107,
      "outputs": [
        {
          "output_type": "execute_result",
          "data": {
            "text/plain": [
              "array([[35693.97802523],\n",
              "       [37579.18577904],\n",
              "       [39464.39353286],\n",
              "       [44177.41291739],\n",
              "       [46062.62067121]])"
            ]
          },
          "metadata": {},
          "execution_count": 107
        }
      ]
    },
    {
      "cell_type": "code",
      "source": [
        "print(lm.predict([[24]]))"
      ],
      "metadata": {
        "colab": {
          "base_uri": "https://localhost:8080/"
        },
        "id": "xdU22PPy6M4c",
        "outputId": "8f895612-5952-4749-bc8a-bb003b207a56"
      },
      "execution_count": 109,
      "outputs": [
        {
          "output_type": "stream",
          "name": "stdout",
          "text": [
            "[[250607.66196013]]\n"
          ]
        }
      ]
    }
  ]
}